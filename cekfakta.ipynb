{
 "cells": [
  {
   "cell_type": "code",
   "execution_count": 3,
   "id": "b47363fd",
   "metadata": {},
   "outputs": [],
   "source": [
    "import azure.functions as func\n",
    "from azure.ai.textanalytics import TextAnalyticsClient\n",
    "from azure.core.credentials import AzureKeyCredential\n",
    "\n",
    "def main(req: func.HttpRequest) -> func.HttpResponse:\n",
    "    text = req.params.get('text')\n",
    "    \n",
    "    # Koneksi ke Text Analytics\n",
    "    credential = AzureKeyCredential(\"<YOUR_KEY>\")\n",
    "    client = TextAnalyticsClient(endpoint=\"<YOUR_ENDPOINT>\", credential=credential)\n",
    "    \n",
    "    # Analisis teks\n",
    "    response = client.analyze_sentiment([text])\n",
    "    return func.HttpResponse(f\"Result: {response[0].sentiment}\")"
   ]
  }
 ],
 "metadata": {
  "kernelspec": {
   "display_name": "base",
   "language": "python",
   "name": "python3"
  },
  "language_info": {
   "codemirror_mode": {
    "name": "ipython",
    "version": 3
   },
   "file_extension": ".py",
   "mimetype": "text/x-python",
   "name": "python",
   "nbconvert_exporter": "python",
   "pygments_lexer": "ipython3",
   "version": "3.9.12"
  }
 },
 "nbformat": 4,
 "nbformat_minor": 5
}
